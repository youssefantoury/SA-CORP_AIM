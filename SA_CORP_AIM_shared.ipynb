{
  "cells": [
    {
      "cell_type": "markdown",
      "metadata": {
        "id": "view-in-github",
        "colab_type": "text"
      },
      "source": [
        "<a href=\"https://colab.research.google.com/github/youssefantoury/SA-CORP_AIM/blob/trunk/SA_CORP_AIM_shared.ipynb\" target=\"_parent\"><img src=\"https://colab.research.google.com/assets/colab-badge.svg\" alt=\"Open In Colab\"/></a>"
      ]
    },
    {
      "cell_type": "code",
      "execution_count": null,
      "metadata": {
        "colab": {
          "base_uri": "https://localhost:8080/"
        },
        "id": "6WvmogY8kL5g",
        "outputId": "8c6bcaa3-4b01-4a4b-b3c1-ac69863a9afa"
      },
      "outputs": [
        {
          "name": "stdout",
          "output_type": "stream",
          "text": [
            "Looking in indexes: https://pypi.org/simple, https://us-python.pkg.dev/colab-wheels/public/simple/\n",
            "Collecting cdflib\n",
            "  Downloading cdflib-0.4.7-py3-none-any.whl (72 kB)\n",
            "\u001b[K     |████████████████████████████████| 72 kB 1.1 MB/s \n",
            "\u001b[?25hRequirement already satisfied: numpy in /usr/local/lib/python3.7/dist-packages (from cdflib) (1.21.6)\n",
            "Requirement already satisfied: attrs>=19.2.0 in /usr/local/lib/python3.7/dist-packages (from cdflib) (22.1.0)\n",
            "Installing collected packages: cdflib\n",
            "Successfully installed cdflib-0.4.7\n"
          ]
        }
      ],
      "source": [
        "!pip install cdflib\n"
      ]
    },
    {
      "cell_type": "markdown",
      "metadata": {
        "id": "dhwqxUi63OeC"
      },
      "source": [
        "## Data Prep"
      ]
    },
    {
      "cell_type": "code",
      "execution_count": null,
      "metadata": {
        "id": "1nJp-gLFDwy2"
      },
      "outputs": [],
      "source": [
        "import os\n",
        "directory = \"Data\"\n",
        "parent_dir = \"/content/\"\n",
        "path = os.path.join(parent_dir, directory)\n",
        "os.mkdir(path)"
      ]
    },
    {
      "cell_type": "code",
      "execution_count": null,
      "metadata": {
        "colab": {
          "background_save": true,
          "base_uri": "https://localhost:8080/"
        },
        "id": "pRFjf0XuUTNG",
        "outputId": "cd9e4c9e-626e-46b4-b8f5-3ce9e69733e3"
      },
      "outputs": [
        {
          "name": "stdout",
          "output_type": "stream",
          "text": [
            "20190303\n",
            "no file of this date\n",
            "20190304\n",
            "no file of this date\n",
            "20190306\n",
            "no file of this date\n",
            "20190307\n",
            "no file of this date\n",
            "20190628\n",
            "no file of this date\n",
            "20190629\n",
            "no file of this date\n",
            "20190630\n",
            "no file of this date\n",
            "20190701\n",
            "no file of this date\n",
            "20190702\n",
            "no file of this date\n",
            "20190703\n",
            "no file of this date\n",
            "20190704\n",
            "no file of this date\n",
            "20190705\n",
            "no file of this date\n",
            "20190706\n",
            "no file of this date\n",
            "20190707\n",
            "no file of this date\n",
            "20190708\n",
            "no file of this date\n",
            "20190709\n",
            "no file of this date\n",
            "20190710\n",
            "no file of this date\n",
            "20190711\n",
            "no file of this date\n",
            "20190712\n",
            "no file of this date\n",
            "20190713\n",
            "no file of this date\n",
            "20190714\n",
            "no file of this date\n",
            "20190715\n",
            "no file of this date\n",
            "20190716\n",
            "no file of this date\n",
            "20190717\n",
            "no file of this date\n",
            "20190718\n",
            "no file of this date\n",
            "20190719\n",
            "no file of this date\n",
            "20190720\n",
            "no file of this date\n",
            "20190721\n",
            "no file of this date\n",
            "20190722\n",
            "no file of this date\n",
            "20190723\n",
            "no file of this date\n",
            "20190724\n",
            "no file of this date\n",
            "20190725\n",
            "no file of this date\n",
            "20190726\n",
            "no file of this date\n",
            "20190727\n",
            "no file of this date\n",
            "20190728\n",
            "no file of this date\n",
            "20190729\n",
            "no file of this date\n",
            "20190730\n",
            "no file of this date\n",
            "20190731\n",
            "no file of this date\n",
            "20190801\n",
            "no file of this date\n",
            "20190802\n",
            "no file of this date\n",
            "20190803\n",
            "no file of this date\n",
            "20190804\n",
            "no file of this date\n",
            "20190805\n",
            "no file of this date\n",
            "20190806\n",
            "no file of this date\n",
            "20190807\n",
            "no file of this date\n",
            "20190808\n",
            "no file of this date\n",
            "20190809\n",
            "no file of this date\n",
            "20190810\n",
            "no file of this date\n",
            "20190811\n",
            "no file of this date\n",
            "20190812\n",
            "no file of this date\n",
            "20190813\n",
            "no file of this date\n",
            "20190814\n",
            "no file of this date\n",
            "20190815\n",
            "no file of this date\n",
            "20190816\n",
            "no file of this date\n",
            "20190817\n",
            "no file of this date\n",
            "20190818\n",
            "no file of this date\n",
            "20190819\n",
            "no file of this date\n",
            "20190820\n",
            "no file of this date\n",
            "20190821\n",
            "no file of this date\n",
            "20190822\n",
            "no file of this date\n",
            "20190823\n",
            "no file of this date\n",
            "20190824\n",
            "no file of this date\n",
            "20190825\n",
            "no file of this date\n",
            "20190826\n",
            "no file of this date\n",
            "20190827\n",
            "no file of this date\n",
            "20190828\n",
            "no file of this date\n",
            "20190829\n",
            "no file of this date\n",
            "20190830\n",
            "no file of this date\n",
            "20190831\n",
            "no file of this date\n",
            "20190901\n",
            "no file of this date\n",
            "20190902\n",
            "no file of this date\n",
            "20190903\n",
            "no file of this date\n",
            "20190904\n",
            "no file of this date\n",
            "20190905\n",
            "no file of this date\n",
            "20190906\n",
            "no file of this date\n",
            "20190907\n",
            "no file of this date\n",
            "20190908\n",
            "no file of this date\n",
            "20190909\n",
            "no file of this date\n",
            "20190910\n",
            "no file of this date\n",
            "20190911\n",
            "no file of this date\n",
            "20190912\n",
            "no file of this date\n",
            "20190913\n",
            "no file of this date\n",
            "20190914\n",
            "no file of this date\n",
            "20190915\n",
            "no file of this date\n",
            "20190916\n",
            "no file of this date\n",
            "20190917\n",
            "no file of this date\n",
            "20190918\n",
            "no file of this date\n",
            "20190919\n",
            "no file of this date\n",
            "20190920\n",
            "no file of this date\n",
            "20190921\n",
            "no file of this date\n",
            "20190922\n",
            "no file of this date\n",
            "20190923\n",
            "no file of this date\n",
            "20190924\n",
            "no file of this date\n",
            "20190925\n",
            "no file of this date\n",
            "20190926\n",
            "no file of this date\n",
            "20190927\n",
            "no file of this date\n",
            "20190928\n",
            "no file of this date\n",
            "20190929\n",
            "no file of this date\n",
            "20190930\n",
            "no file of this date\n",
            "20191001\n",
            "no file of this date\n",
            "20191002\n",
            "no file of this date\n",
            "20191003\n",
            "no file of this date\n",
            "20191004\n",
            "no file of this date\n",
            "20191005\n",
            "no file of this date\n",
            "20191006\n",
            "no file of this date\n",
            "20191007\n",
            "no file of this date\n",
            "20191008\n",
            "no file of this date\n",
            "20191009\n",
            "no file of this date\n",
            "20191010\n",
            "no file of this date\n",
            "20191011\n",
            "no file of this date\n",
            "20191012\n",
            "no file of this date\n",
            "20191013\n",
            "no file of this date\n",
            "20191014\n",
            "no file of this date\n",
            "20191015\n",
            "no file of this date\n",
            "20191016\n",
            "no file of this date\n",
            "20191017\n",
            "no file of this date\n",
            "20191018\n",
            "no file of this date\n",
            "20191019\n",
            "no file of this date\n",
            "20191020\n",
            "no file of this date\n",
            "20191021\n",
            "no file of this date\n",
            "20191022\n",
            "no file of this date\n",
            "20191023\n",
            "no file of this date\n",
            "20191024\n",
            "no file of this date\n",
            "20191025\n",
            "no file of this date\n",
            "20191026\n",
            "no file of this date\n",
            "20191027\n",
            "no file of this date\n",
            "20191028\n",
            "no file of this date\n",
            "20191029\n",
            "no file of this date\n",
            "20191030\n",
            "no file of this date\n",
            "20191031\n",
            "no file of this date\n",
            "20191101\n",
            "no file of this date\n",
            "20191102\n",
            "no file of this date\n",
            "20191103\n",
            "no file of this date\n",
            "20191104\n",
            "no file of this date\n",
            "20191105\n",
            "no file of this date\n",
            "20191106\n",
            "no file of this date\n",
            "20191107\n",
            "no file of this date\n",
            "20191108\n",
            "no file of this date\n",
            "20191109\n",
            "no file of this date\n",
            "20191110\n",
            "no file of this date\n",
            "20191111\n",
            "no file of this date\n",
            "20191112\n",
            "no file of this date\n",
            "20191113\n",
            "no file of this date\n",
            "20191114\n",
            "no file of this date\n",
            "20191115\n",
            "no file of this date\n",
            "20191116\n",
            "no file of this date\n",
            "20191117\n",
            "no file of this date\n",
            "20191118\n",
            "no file of this date\n",
            "20191119\n",
            "no file of this date\n",
            "20191120\n",
            "no file of this date\n",
            "20191121\n",
            "no file of this date\n",
            "20191122\n",
            "no file of this date\n",
            "20191123\n",
            "no file of this date\n",
            "20191124\n",
            "no file of this date\n",
            "20191125\n",
            "no file of this date\n",
            "20191126\n",
            "no file of this date\n",
            "20191127\n",
            "no file of this date\n",
            "20191128\n",
            "no file of this date\n",
            "20191129\n",
            "no file of this date\n",
            "20191130\n",
            "no file of this date\n",
            "20191201\n",
            "no file of this date\n",
            "20191202\n",
            "no file of this date\n",
            "20191203\n",
            "no file of this date\n",
            "20191204\n",
            "no file of this date\n",
            "20191205\n",
            "no file of this date\n",
            "20191206\n",
            "no file of this date\n",
            "20191207\n",
            "no file of this date\n",
            "20191208\n",
            "no file of this date\n",
            "20191209\n",
            "no file of this date\n",
            "20191210\n",
            "no file of this date\n",
            "20191211\n",
            "no file of this date\n",
            "20191212\n",
            "no file of this date\n",
            "20191213\n",
            "no file of this date\n",
            "20191214\n",
            "no file of this date\n",
            "20191215\n",
            "no file of this date\n",
            "20191216\n",
            "no file of this date\n",
            "20191217\n",
            "no file of this date\n",
            "20191218\n",
            "no file of this date\n",
            "20191219\n",
            "no file of this date\n",
            "20191220\n",
            "no file of this date\n",
            "20191221\n",
            "no file of this date\n",
            "20191222\n",
            "no file of this date\n",
            "20191223\n",
            "no file of this date\n",
            "20191224\n",
            "no file of this date\n",
            "20191225\n",
            "no file of this date\n",
            "20191226\n",
            "no file of this date\n",
            "20191227\n",
            "no file of this date\n",
            "20191228\n",
            "no file of this date\n",
            "20191229\n",
            "no file of this date\n",
            "20191230\n",
            "no file of this date\n",
            "20191231\n",
            "no file of this date\n"
          ]
        }
      ],
      "source": [
        "import numpy\n",
        "import scipy\n",
        "import matplotlib\n",
        "import h5py\n",
        "import networkx\n",
        "import numpy as np\n",
        "import pandas as pd\n",
        "import matplotlib.pyplot as plt\n",
        "import datetime\n",
        "import cdflib\n",
        "import xarray as xr\n",
        "import urllib.request\n",
        "import math \n",
        "\n",
        "x=0\n",
        "daty= datetime.datetime(2019, 1, 1)\n",
        "for i in range (0,365):\n",
        "  dateT = daty.strftime('%Y%m%d')\n",
        "  \n",
        "  try :\n",
        "   fname = '/content/Data/dscovr_h1_fc_'+dateT+'_v12.cdf'\n",
        "   url = (\"https://cdaweb.gsfc.nasa.gov/pub/data/dscovr/h1/faraday_cup/\"+daty.strftime('%Y')+\"/dscovr_h1_fc_\"+dateT+\"_v12.cdf\")\n",
        "   #print(\"a\")\n",
        "   urllib.request.urlretrieve(url, fname)\n",
        "   x=x+1\n",
        "  except:\n",
        "   try:\n",
        "     fname = '/content/Data/dscovr_h1_fc_'+dateT+'_v13.cdf'\n",
        "     url = (\"https://cdaweb.gsfc.nasa.gov/pub/data/dscovr/h1/faraday_cup/\"+daty.strftime('%Y')+\"/dscovr_h1_fc_\"+dateT+\"_v13.cdf\")\n",
        "     #print(\"b\")\n",
        "     urllib.request.urlretrieve(url, fname)\n",
        "     x=x+1\n",
        "   except:\n",
        "    try:\n",
        "      fname = '/content/Data/dscovr_h1_fc_'+dateT+'_v14.cdf'\n",
        "      url = (\"https://cdaweb.gsfc.nasa.gov/pub/data/dscovr/h1/faraday_cup/\"+daty.strftime('%Y')+\"/dscovr_h1_fc_\"+dateT+\"_v14.cdf\")\n",
        "      #print(\"c\")\n",
        "      urllib.request.urlretrieve(url, fname)\n",
        "      x=x+1\n",
        "    except:\n",
        "      print(dateT)\n",
        "      print(\"no file of this date\")\n",
        "\n",
        "\n",
        "  daty+=datetime.timedelta(days=1)\n",
        "  #print(dateT)"
      ]
    },
    {
      "cell_type": "code",
      "execution_count": null,
      "metadata": {
        "id": "h8jvIWHUXWbG"
      },
      "outputs": [],
      "source": [
        "dataX=[]\n",
        "cdfDataList=os.listdir('/content/Data')\n",
        "for j in range (0,len(cdfDataList)):\n",
        "  dataX.append(cdflib.cdf_to_xarray(\"/content/Data/\"+cdfDataList[j]))\n",
        "  "
      ]
    },
    {
      "cell_type": "markdown",
      "metadata": {
        "id": "pKWnnlz31SDC"
      },
      "source": [
        "cleaning the data:\n"
      ]
    },
    {
      "cell_type": "code",
      "execution_count": null,
      "metadata": {
        "colab": {
          "base_uri": "https://localhost:8080/"
        },
        "id": "0_nLV4JxZK23",
        "outputId": "f87000a0-3a32-4196-e58f-b9ecf68a8dda"
      },
      "outputs": [
        {
          "name": "stdout",
          "output_type": "stream",
          "text": [
            "[[    2019       13        0]\n",
            " [    2019       13    59985]\n",
            " [    2019       13   119971]\n",
            " ...\n",
            " [    2019       13 86219962]\n",
            " [    2019       13 86280029]\n",
            " [    2019       13 86340015]]\n",
            "149\n"
          ]
        },
        {
          "name": "stderr",
          "output_type": "stream",
          "text": [
            "/usr/local/lib/python3.7/dist-packages/ipykernel_launcher.py:26: RuntimeWarning: overflow encountered in float_scalars\n"
          ]
        },
        {
          "name": "stdout",
          "output_type": "stream",
          "text": [
            "214560\n",
            "Total minutes for 2019's data\n",
            "0\n"
          ]
        }
      ],
      "source": [
        "print(dataX[0].Time_PB5.values)\n",
        "\n",
        "timeDataSeries=[]\n",
        "yearTimeDataSeries=[]\n",
        "dayTimeDataSeries=[]\n",
        "msTimeDataSeries=[]\n",
        "velocityDataSeries=[]\n",
        "velocityMagDataSeries=[]\n",
        "thermalSpeedDataSeries=[]\n",
        "densityDataSeries=[]\n",
        "temperatureDataSeries=[]\n",
        "\n",
        "\n",
        "\n",
        "e=0\n",
        "print(len(dataX))\n",
        "for k in range (0,len(dataX)):\n",
        "    for i in range (0,len(dataX[k].Time_PB5.values)):\n",
        "      yearTimeDataSeries.append(dataX[k].Time_PB5.values[i][0])\n",
        "      dayTimeDataSeries.append(dataX[k].Time_PB5.values[i][1])\n",
        "      msTimeDataSeries.append(dataX[k].Time_PB5.values[i][2])\n",
        "      velocityDataSeries.append(dataX[k].V_GSE.values[i])\n",
        "      thermalSpeedDataSeries.append(dataX[k].THERMAL_SPD.values[i])\n",
        "      densityDataSeries.append(dataX[k].Np.values[i])\n",
        "      temperatureDataSeries.append(dataX[k].THERMAL_TEMP.values[i])\n",
        "      x=(dataX[k].V_GSE.values[i][0]*dataX[k].V_GSE.values[i][0])+(dataX[k].V_GSE.values[i][1]*dataX[k].V_GSE.values[i][1])+(dataX[k].V_GSE.values[i][2]*dataX[k].V_GSE.values[i][2])\n",
        "      velocityMagDataSeries.append(math.sqrt(x))\n",
        "      e=e+1\n",
        "\n",
        "\n",
        "\n",
        "\n",
        "print(e)\n",
        "print(\"Total minutes for 2019's data\")\n",
        "print(len(timeDataSeries))\n",
        "cc=timeDataSeries.copy()\n",
        "\n"
      ]
    },
    {
      "cell_type": "code",
      "execution_count": null,
      "metadata": {
        "id": "YFMYtsb_FHn_"
      },
      "outputs": [],
      "source": []
    },
    {
      "cell_type": "code",
      "execution_count": null,
      "metadata": {
        "colab": {
          "base_uri": "https://localhost:8080/",
          "height": 455
        },
        "id": "PFoX0mHs3If0",
        "outputId": "f135b4cb-bcc0-4a9b-889f-e44cca5d0276"
      },
      "outputs": [
        {
          "data": {
            "text/html": [
              "\n",
              "  <div id=\"df-1b606a0f-d74d-47a7-abb5-cda626b13252\">\n",
              "    <div class=\"colab-df-container\">\n",
              "      <div>\n",
              "<style scoped>\n",
              "    .dataframe tbody tr th:only-of-type {\n",
              "        vertical-align: middle;\n",
              "    }\n",
              "\n",
              "    .dataframe tbody tr th {\n",
              "        vertical-align: top;\n",
              "    }\n",
              "\n",
              "    .dataframe thead th {\n",
              "        text-align: right;\n",
              "    }\n",
              "</style>\n",
              "<table border=\"1\" class=\"dataframe\">\n",
              "  <thead>\n",
              "    <tr style=\"text-align: right;\">\n",
              "      <th></th>\n",
              "      <th>thermal_speed</th>\n",
              "      <th>density</th>\n",
              "      <th>temperature</th>\n",
              "      <th>velocityMag</th>\n",
              "    </tr>\n",
              "    <tr>\n",
              "      <th>time</th>\n",
              "      <th></th>\n",
              "      <th></th>\n",
              "      <th></th>\n",
              "      <th></th>\n",
              "    </tr>\n",
              "  </thead>\n",
              "  <tbody>\n",
              "    <tr>\n",
              "      <th>2019120099995</th>\n",
              "      <td>29.481003</td>\n",
              "      <td>4.476263</td>\n",
              "      <td>52646.445312</td>\n",
              "      <td>439.451754</td>\n",
              "    </tr>\n",
              "    <tr>\n",
              "      <th>2019120160001</th>\n",
              "      <td>30.210070</td>\n",
              "      <td>4.586602</td>\n",
              "      <td>55282.539062</td>\n",
              "      <td>438.363558</td>\n",
              "    </tr>\n",
              "    <tr>\n",
              "      <th>2019120219997</th>\n",
              "      <td>30.314930</td>\n",
              "      <td>4.598308</td>\n",
              "      <td>55666.980469</td>\n",
              "      <td>439.034683</td>\n",
              "    </tr>\n",
              "    <tr>\n",
              "      <th>2019120280003</th>\n",
              "      <td>30.158314</td>\n",
              "      <td>4.581158</td>\n",
              "      <td>55093.277344</td>\n",
              "      <td>438.071680</td>\n",
              "    </tr>\n",
              "    <tr>\n",
              "      <th>2019120339999</th>\n",
              "      <td>30.190407</td>\n",
              "      <td>4.597085</td>\n",
              "      <td>55210.601562</td>\n",
              "      <td>438.708723</td>\n",
              "    </tr>\n",
              "    <tr>\n",
              "      <th>...</th>\n",
              "      <td>...</td>\n",
              "      <td>...</td>\n",
              "      <td>...</td>\n",
              "      <td>...</td>\n",
              "    </tr>\n",
              "    <tr>\n",
              "      <th>2019263000007</th>\n",
              "      <td>15.302029</td>\n",
              "      <td>3.953820</td>\n",
              "      <td>14183.472656</td>\n",
              "      <td>353.158195</td>\n",
              "    </tr>\n",
              "    <tr>\n",
              "      <th>2019263060013</th>\n",
              "      <td>15.997763</td>\n",
              "      <td>4.074534</td>\n",
              "      <td>15502.545898</td>\n",
              "      <td>353.717070</td>\n",
              "    </tr>\n",
              "    <tr>\n",
              "      <th>2019263119998</th>\n",
              "      <td>15.526944</td>\n",
              "      <td>3.920435</td>\n",
              "      <td>14603.485352</td>\n",
              "      <td>352.961544</td>\n",
              "    </tr>\n",
              "    <tr>\n",
              "      <th>2019263180004</th>\n",
              "      <td>15.568851</td>\n",
              "      <td>3.886451</td>\n",
              "      <td>14682.418945</td>\n",
              "      <td>352.542451</td>\n",
              "    </tr>\n",
              "    <tr>\n",
              "      <th>2019263240010</th>\n",
              "      <td>15.737044</td>\n",
              "      <td>3.934567</td>\n",
              "      <td>15001.369141</td>\n",
              "      <td>352.788424</td>\n",
              "    </tr>\n",
              "  </tbody>\n",
              "</table>\n",
              "<p>1200 rows × 4 columns</p>\n",
              "</div>\n",
              "      <button class=\"colab-df-convert\" onclick=\"convertToInteractive('df-1b606a0f-d74d-47a7-abb5-cda626b13252')\"\n",
              "              title=\"Convert this dataframe to an interactive table.\"\n",
              "              style=\"display:none;\">\n",
              "        \n",
              "  <svg xmlns=\"http://www.w3.org/2000/svg\" height=\"24px\"viewBox=\"0 0 24 24\"\n",
              "       width=\"24px\">\n",
              "    <path d=\"M0 0h24v24H0V0z\" fill=\"none\"/>\n",
              "    <path d=\"M18.56 5.44l.94 2.06.94-2.06 2.06-.94-2.06-.94-.94-2.06-.94 2.06-2.06.94zm-11 1L8.5 8.5l.94-2.06 2.06-.94-2.06-.94L8.5 2.5l-.94 2.06-2.06.94zm10 10l.94 2.06.94-2.06 2.06-.94-2.06-.94-.94-2.06-.94 2.06-2.06.94z\"/><path d=\"M17.41 7.96l-1.37-1.37c-.4-.4-.92-.59-1.43-.59-.52 0-1.04.2-1.43.59L10.3 9.45l-7.72 7.72c-.78.78-.78 2.05 0 2.83L4 21.41c.39.39.9.59 1.41.59.51 0 1.02-.2 1.41-.59l7.78-7.78 2.81-2.81c.8-.78.8-2.07 0-2.86zM5.41 20L4 18.59l7.72-7.72 1.47 1.35L5.41 20z\"/>\n",
              "  </svg>\n",
              "      </button>\n",
              "      \n",
              "  <style>\n",
              "    .colab-df-container {\n",
              "      display:flex;\n",
              "      flex-wrap:wrap;\n",
              "      gap: 12px;\n",
              "    }\n",
              "\n",
              "    .colab-df-convert {\n",
              "      background-color: #E8F0FE;\n",
              "      border: none;\n",
              "      border-radius: 50%;\n",
              "      cursor: pointer;\n",
              "      display: none;\n",
              "      fill: #1967D2;\n",
              "      height: 32px;\n",
              "      padding: 0 0 0 0;\n",
              "      width: 32px;\n",
              "    }\n",
              "\n",
              "    .colab-df-convert:hover {\n",
              "      background-color: #E2EBFA;\n",
              "      box-shadow: 0px 1px 2px rgba(60, 64, 67, 0.3), 0px 1px 3px 1px rgba(60, 64, 67, 0.15);\n",
              "      fill: #174EA6;\n",
              "    }\n",
              "\n",
              "    [theme=dark] .colab-df-convert {\n",
              "      background-color: #3B4455;\n",
              "      fill: #D2E3FC;\n",
              "    }\n",
              "\n",
              "    [theme=dark] .colab-df-convert:hover {\n",
              "      background-color: #434B5C;\n",
              "      box-shadow: 0px 1px 3px 1px rgba(0, 0, 0, 0.15);\n",
              "      filter: drop-shadow(0px 1px 2px rgba(0, 0, 0, 0.3));\n",
              "      fill: #FFFFFF;\n",
              "    }\n",
              "  </style>\n",
              "\n",
              "      <script>\n",
              "        const buttonEl =\n",
              "          document.querySelector('#df-1b606a0f-d74d-47a7-abb5-cda626b13252 button.colab-df-convert');\n",
              "        buttonEl.style.display =\n",
              "          google.colab.kernel.accessAllowed ? 'block' : 'none';\n",
              "\n",
              "        async function convertToInteractive(key) {\n",
              "          const element = document.querySelector('#df-1b606a0f-d74d-47a7-abb5-cda626b13252');\n",
              "          const dataTable =\n",
              "            await google.colab.kernel.invokeFunction('convertToInteractive',\n",
              "                                                     [key], {});\n",
              "          if (!dataTable) return;\n",
              "\n",
              "          const docLinkHtml = 'Like what you see? Visit the ' +\n",
              "            '<a target=\"_blank\" href=https://colab.research.google.com/notebooks/data_table.ipynb>data table notebook</a>'\n",
              "            + ' to learn more about interactive tables.';\n",
              "          element.innerHTML = '';\n",
              "          dataTable['output_type'] = 'display_data';\n",
              "          await google.colab.output.renderOutput(dataTable, element);\n",
              "          const docLink = document.createElement('div');\n",
              "          docLink.innerHTML = docLinkHtml;\n",
              "          element.appendChild(docLink);\n",
              "        }\n",
              "      </script>\n",
              "    </div>\n",
              "  </div>\n",
              "  "
            ],
            "text/plain": [
              "               thermal_speed   density   temperature  velocityMag\n",
              "time                                                             \n",
              "2019120099995      29.481003  4.476263  52646.445312   439.451754\n",
              "2019120160001      30.210070  4.586602  55282.539062   438.363558\n",
              "2019120219997      30.314930  4.598308  55666.980469   439.034683\n",
              "2019120280003      30.158314  4.581158  55093.277344   438.071680\n",
              "2019120339999      30.190407  4.597085  55210.601562   438.708723\n",
              "...                      ...       ...           ...          ...\n",
              "2019263000007      15.302029  3.953820  14183.472656   353.158195\n",
              "2019263060013      15.997763  4.074534  15502.545898   353.717070\n",
              "2019263119998      15.526944  3.920435  14603.485352   352.961544\n",
              "2019263180004      15.568851  3.886451  14682.418945   352.542451\n",
              "2019263240010      15.737044  3.934567  15001.369141   352.788424\n",
              "\n",
              "[1200 rows x 4 columns]"
            ]
          },
          "execution_count": 6,
          "metadata": {},
          "output_type": "execute_result"
        }
      ],
      "source": [
        "\n",
        "features={'year':yearTimeDataSeries,'day':dayTimeDataSeries,'ms':msTimeDataSeries,'velocity':velocityDataSeries,'thermal_speed':thermalSpeedDataSeries,'density':densityDataSeries,'temperature':temperatureDataSeries,'velocityMag':velocityMagDataSeries}\n",
        "\n",
        "featuresDf=pd.DataFrame(features)\n",
        "\n",
        "orderedFeaturesDf=featuresDf.sort_values(by=[\"year\",\"day\",\"ms\"])\n",
        "\n",
        "featuresDf.dtypes\n",
        "featuresDf.describe()\n",
        "\n",
        "orderedFeaturesDf=orderedFeaturesDf.assign(time = ''+orderedFeaturesDf.year.astype(str) + orderedFeaturesDf.day.astype(str) + orderedFeaturesDf.ms.astype(str))\n",
        "\n",
        "#missing or / -1e+31 management:\n",
        "orderedFeaturesDf=orderedFeaturesDf[orderedFeaturesDf.density > -1^31]\n",
        "\n",
        "orderedFeaturesDf=orderedFeaturesDf.drop(columns=['year','day','ms','velocity'])\n",
        "orderedFeaturesDf=orderedFeaturesDf.set_index('time')\n",
        "orderedFeaturesDf.head(1200)\n",
        "\n"
      ]
    },
    {
      "cell_type": "code",
      "execution_count": null,
      "metadata": {
        "colab": {
          "base_uri": "https://localhost:8080/"
        },
        "id": "7uvwSG3a1RVL",
        "outputId": "b21c5b52-4449-4d81-e822-865da5827da1"
      },
      "outputs": [
        {
          "name": "stdout",
          "output_type": "stream",
          "text": [
            "201073\n"
          ]
        }
      ],
      "source": [
        "print(len(orderedFeaturesDf))\n",
        "#15122 missing values(were -1^31) from 249120 to 233998"
      ]
    },
    {
      "cell_type": "markdown",
      "metadata": {
        "id": "nDZb7Z5L1Ui6"
      },
      "source": [
        "plotting data"
      ]
    },
    {
      "cell_type": "code",
      "execution_count": null,
      "metadata": {
        "colab": {
          "base_uri": "https://localhost:8080/",
          "height": 275
        },
        "id": "Gph3yj3_6r1D",
        "outputId": "1fefd559-3911-4ec3-9039-67304c2f133a"
      },
      "outputs": [
        {
          "data": {
            "image/png": "[encoded data removed]",
            "text/plain": [
              "<Figure size 1296x360 with 1 Axes>"
            ]
          },
          "metadata": {},
          "output_type": "display_data"
        }
      ],
      "source": [
        "plt.rcParams[\"figure.figsize\"] = [18, 5]\n",
        "plt.rcParams[\"figure.autolayout\"] = True\n",
        "plt.plot(orderedFeaturesDf.iloc[00:1200,3] , color=\"red\")\n",
        "plt.show()"
      ]
    },
    {
      "cell_type": "code",
      "execution_count": null,
      "metadata": {
        "colab": {
          "base_uri": "https://localhost:8080/",
          "height": 275
        },
        "id": "ks5Liu81by9X",
        "outputId": "2fb75427-1eeb-4793-f9ac-826bdb06a4bd"
      },
      "outputs": [
        {
          "data": {
            "image/png": "[encoded data removed]",
            "text/plain": [
              "<Figure size 1296x360 with 1 Axes>"
            ]
          },
          "metadata": {},
          "output_type": "display_data"
        }
      ],
      "source": [
        "plt.rcParams[\"figure.figsize\"] = [18, 5]\n",
        "plt.rcParams[\"figure.autolayout\"] = True\n",
        "plt.plot(orderedFeaturesDf.iloc[0:1200,2] , color=\"red\")\n",
        "plt.show()"
      ]
    },
    {
      "cell_type": "code",
      "execution_count": null,
      "metadata": {
        "colab": {
          "base_uri": "https://localhost:8080/",
          "height": 275
        },
        "id": "S88qno-Fb3YG",
        "outputId": "b7b24453-29d4-4972-9cc7-b73de0e8e644"
      },
      "outputs": [
        {
          "data": {
            "image/png": "[encoded data removed]",
            "text/plain": [
              "<Figure size 1296x360 with 1 Axes>"
            ]
          },
          "metadata": {},
          "output_type": "display_data"
        }
      ],
      "source": [
        "plt.rcParams[\"figure.figsize\"] = [18, 5]\n",
        "plt.rcParams[\"figure.autolayout\"] = True\n",
        "plt.plot(orderedFeaturesDf.iloc[0:1200,1] , color=\"red\")\n",
        "plt.show()"
      ]
    },
    {
      "cell_type": "code",
      "execution_count": null,
      "metadata": {
        "colab": {
          "base_uri": "https://localhost:8080/",
          "height": 275
        },
        "id": "WGF6R6_Lb7RG",
        "outputId": "e3c87372-6ffe-4f5f-9536-46c18bd86e5f"
      },
      "outputs": [
        {
          "data": {
            "image/png": "[encoded data removed]",
            "text/plain": [
              "<Figure size 1296x360 with 1 Axes>"
            ]
          },
          "metadata": {},
          "output_type": "display_data"
        }
      ],
      "source": [
        "plt.rcParams[\"figure.figsize\"] = [18, 5]\n",
        "plt.rcParams[\"figure.autolayout\"] = True\n",
        "plt.plot(orderedFeaturesDf.iloc[0:1200,0] , color=\"red\")\n",
        "plt.show()"
      ]
    },
    {
      "cell_type": "markdown",
      "metadata": {
        "id": "1stpuGuX3GB6"
      },
      "source": [
        "# Model "
      ]
    },
    {
      "cell_type": "code",
      "execution_count": null,
      "metadata": {
        "id": "sqvgNbas3KkC"
      },
      "outputs": [],
      "source": [
        "from sklearn.preprocessing import MinMaxScaler\n",
        "import tensorflow as tf\n",
        "from keras.models import Sequential\n",
        "from keras.layers import Dense\n",
        "from keras.layers import LSTM\n"
      ]
    },
    {
      "cell_type": "markdown",
      "metadata": {
        "id": "hSYbASrKaZGw"
      },
      "source": [
        "233998 minutes/60 = 3899 hours and 58 minutes\n",
        "\n",
        "we will input 158  minutes as input to the model \n",
        "233998/158=1481\n",
        "85% training :approx 1481*85/100=1258.85=>1106=158*7\n",
        "15% training :approx 1481*15/100=>1481-1106=>316\n",
        "\n",
        "1106+316=1422\n",
        "1481-1422=59 batch of 158min unsused data ?? (to see for later)\n",
        "to recalculate later\n",
        "now ordinary 85% 15% splitting\n"
      ]
    },
    {
      "cell_type": "code",
      "execution_count": null,
      "metadata": {
        "id": "K73fhFNUbtPw"
      },
      "outputs": [],
      "source": [
        "#85% of 233998=198898.3=>198899\n",
        "#15% of 233998=35099.7=>35099\n",
        "train_df,test_df = orderedFeaturesDf[0:198899], orderedFeaturesDf[198899:] "
      ]
    },
    {
      "cell_type": "code",
      "execution_count": 17,
      "metadata": {
        "colab": {
          "base_uri": "https://localhost:8080/"
        },
        "id": "_ya1j2wt4roY",
        "outputId": "5285b17d-5cea-4f29-ce3e-05c1969273c3"
      },
      "outputs": [
        {
          "output_type": "stream",
          "name": "stderr",
          "text": [
            "/usr/local/lib/python3.7/dist-packages/ipykernel_launcher.py:9: SettingWithCopyWarning: \n",
            "A value is trying to be set on a copy of a slice from a DataFrame.\n",
            "Try using .loc[row_indexer,col_indexer] = value instead\n",
            "\n",
            "See the caveats in the documentation: https://pandas.pydata.org/pandas-docs/stable/user_guide/indexing.html#returning-a-view-versus-a-copy\n",
            "  if __name__ == '__main__':\n",
            "/usr/local/lib/python3.7/dist-packages/ipykernel_launcher.py:9: SettingWithCopyWarning: \n",
            "A value is trying to be set on a copy of a slice from a DataFrame.\n",
            "Try using .loc[row_indexer,col_indexer] = value instead\n",
            "\n",
            "See the caveats in the documentation: https://pandas.pydata.org/pandas-docs/stable/user_guide/indexing.html#returning-a-view-versus-a-copy\n",
            "  if __name__ == '__main__':\n",
            "/usr/local/lib/python3.7/dist-packages/ipykernel_launcher.py:9: SettingWithCopyWarning: \n",
            "A value is trying to be set on a copy of a slice from a DataFrame.\n",
            "Try using .loc[row_indexer,col_indexer] = value instead\n",
            "\n",
            "See the caveats in the documentation: https://pandas.pydata.org/pandas-docs/stable/user_guide/indexing.html#returning-a-view-versus-a-copy\n",
            "  if __name__ == '__main__':\n",
            "/usr/local/lib/python3.7/dist-packages/ipykernel_launcher.py:9: SettingWithCopyWarning: \n",
            "A value is trying to be set on a copy of a slice from a DataFrame.\n",
            "Try using .loc[row_indexer,col_indexer] = value instead\n",
            "\n",
            "See the caveats in the documentation: https://pandas.pydata.org/pandas-docs/stable/user_guide/indexing.html#returning-a-view-versus-a-copy\n",
            "  if __name__ == '__main__':\n",
            "/usr/local/lib/python3.7/dist-packages/ipykernel_launcher.py:16: SettingWithCopyWarning: \n",
            "A value is trying to be set on a copy of a slice from a DataFrame.\n",
            "Try using .loc[row_indexer,col_indexer] = value instead\n",
            "\n",
            "See the caveats in the documentation: https://pandas.pydata.org/pandas-docs/stable/user_guide/indexing.html#returning-a-view-versus-a-copy\n",
            "  app.launch_new_instance()\n",
            "/usr/local/lib/python3.7/dist-packages/ipykernel_launcher.py:16: SettingWithCopyWarning: \n",
            "A value is trying to be set on a copy of a slice from a DataFrame.\n",
            "Try using .loc[row_indexer,col_indexer] = value instead\n",
            "\n",
            "See the caveats in the documentation: https://pandas.pydata.org/pandas-docs/stable/user_guide/indexing.html#returning-a-view-versus-a-copy\n",
            "  app.launch_new_instance()\n",
            "/usr/local/lib/python3.7/dist-packages/ipykernel_launcher.py:16: SettingWithCopyWarning: \n",
            "A value is trying to be set on a copy of a slice from a DataFrame.\n",
            "Try using .loc[row_indexer,col_indexer] = value instead\n",
            "\n",
            "See the caveats in the documentation: https://pandas.pydata.org/pandas-docs/stable/user_guide/indexing.html#returning-a-view-versus-a-copy\n",
            "  app.launch_new_instance()\n",
            "/usr/local/lib/python3.7/dist-packages/ipykernel_launcher.py:16: SettingWithCopyWarning: \n",
            "A value is trying to be set on a copy of a slice from a DataFrame.\n",
            "Try using .loc[row_indexer,col_indexer] = value instead\n",
            "\n",
            "See the caveats in the documentation: https://pandas.pydata.org/pandas-docs/stable/user_guide/indexing.html#returning-a-view-versus-a-copy\n",
            "  app.launch_new_instance()\n"
          ]
        }
      ],
      "source": [
        "train = train_df\n",
        "#test = test_df\n",
        "scalers={}\n",
        "for i in train_df.columns:\n",
        "    scaler = MinMaxScaler(feature_range=(-1,1))\n",
        "    s_s = scaler.fit_transform(train[i].values.reshape(-1,1))\n",
        "    s_s=np.reshape(s_s,len(s_s))\n",
        "    scalers['scaler_'+ i] = scaler\n",
        "    train[i]=s_s\n",
        "test = test_df\n",
        "for i in test_df.columns:\n",
        "    scaler = scalers['scaler_'+i]\n",
        "    s_s = scaler.transform(test[i].values.reshape(-1,1))\n",
        "    s_s=np.reshape(s_s,len(s_s))\n",
        "    scalers['scaler_'+i] = scaler\n",
        "    test[i]=s_s"
      ]
    },
    {
      "cell_type": "code",
      "execution_count": 18,
      "metadata": {
        "id": "RMBCYS2o54yX"
      },
      "outputs": [],
      "source": [
        "def split_series(series, n_past, n_future):\n",
        "\n",
        "  X, y = list(), list()\n",
        "  for window_start in range(len(series)):\n",
        "    past_end = window_start + n_past\n",
        "    future_end = past_end + n_future\n",
        "    if future_end > len(series):\n",
        "      break\n",
        "    \n",
        "    past, future = series[window_start:past_end, :], series[past_end:future_end, :]\n",
        "    X.append(past)\n",
        "    y.append(future)\n",
        "  return np.array(X), np.array(y)\n",
        "\n",
        "\n",
        "n_past = 158\n",
        "n_future = 79\n",
        "n_features = 4\n",
        "\n",
        "X_train, y_train = split_series(train.values,n_past, n_future)\n",
        "X_train = X_train.reshape((X_train.shape[0], X_train.shape[1],n_features))\n",
        "y_train = y_train.reshape((y_train.shape[0], y_train.shape[1], n_features))\n",
        "X_test, y_test = split_series(test.values,n_past, n_future)\n",
        "X_test = X_test.reshape((X_test.shape[0], X_test.shape[1],n_features))\n",
        "y_test = y_test.reshape((y_test.shape[0], y_test.shape[1], n_features))"
      ]
    },
    {
      "cell_type": "code",
      "source": [
        "#location saved models'/content/drive/MyDrive/e2d2model'\n",
        "loaded_model = tf.keras.models.load_model('/content/drive/MyDrive/e2d2model')"
      ],
      "metadata": {
        "id": "5bducVOZ7D3k"
      },
      "execution_count": 19,
      "outputs": []
    },
    {
      "cell_type": "code",
      "execution_count": null,
      "metadata": {
        "colab": {
          "base_uri": "https://localhost:8080/"
        },
        "id": "rd1pTr867DAQ",
        "outputId": "a6466fa3-c62b-43e5-918d-f35e8f95cd71"
      },
      "outputs": [
        {
          "name": "stdout",
          "output_type": "stream",
          "text": [
            "Model: \"model\"\n",
            "__________________________________________________________________________________________________\n",
            " Layer (type)                   Output Shape         Param #     Connected to                     \n",
            "==================================================================================================\n",
            " input_1 (InputLayer)           [(None, 158, 4)]     0           []                               \n",
            "                                                                                                  \n",
            " lstm (LSTM)                    [(None, 100),        42000       ['input_1[0][0]']                \n",
            "                                 (None, 100),                                                     \n",
            "                                 (None, 100)]                                                     \n",
            "                                                                                                  \n",
            " repeat_vector (RepeatVector)   (None, 79, 100)      0           ['lstm[0][0]']                   \n",
            "                                                                                                  \n",
            " lstm_1 (LSTM)                  (None, 79, 100)      80400       ['repeat_vector[0][0]',          \n",
            "                                                                  'lstm[0][1]',                   \n",
            "                                                                  'lstm[0][2]']                   \n",
            "                                                                                                  \n",
            " time_distributed (TimeDistribu  (None, 79, 4)       404         ['lstm_1[0][0]']                 \n",
            " ted)                                                                                             \n",
            "                                                                                                  \n",
            "==================================================================================================\n",
            "Total params: 122,804\n",
            "Trainable params: 122,804\n",
            "Non-trainable params: 0\n",
            "__________________________________________________________________________________________________\n"
          ]
        }
      ],
      "source": [
        "encoder_inputs = tf.keras.layers.Input(shape=(n_past, n_features))\n",
        "encoder_l1 = tf.keras.layers.LSTM(100, return_state=True)\n",
        "encoder_outputs1 = encoder_l1(encoder_inputs)\n",
        "\n",
        "encoder_states1 = encoder_outputs1[1:]\n",
        "\n",
        "decoder_inputs = tf.keras.layers.RepeatVector(n_future)(encoder_outputs1[0])\n",
        "\n",
        "decoder_l1 = tf.keras.layers.LSTM(100, return_sequences=True)(decoder_inputs,initial_state = encoder_states1)\n",
        "decoder_outputs1 = tf.keras.layers.TimeDistributed(tf.keras.layers.Dense(n_features))(decoder_l1)\n",
        "\n",
        "model_e1d1 = tf.keras.models.Model(encoder_inputs,decoder_outputs1)\n",
        "\n",
        "model_e1d1.summary()"
      ]
    },
    {
      "cell_type": "code",
      "execution_count": null,
      "metadata": {
        "colab": {
          "base_uri": "https://localhost:8080/"
        },
        "id": "K-qev4Pa94JY",
        "outputId": "d4de699b-840c-4b4f-912b-01078942577e"
      },
      "outputs": [
        {
          "name": "stdout",
          "output_type": "stream",
          "text": [
            "Model: \"model_1\"\n",
            "__________________________________________________________________________________________________\n",
            " Layer (type)                   Output Shape         Param #     Connected to                     \n",
            "==================================================================================================\n",
            " input_2 (InputLayer)           [(None, 158, 4)]     0           []                               \n",
            "                                                                                                  \n",
            " lstm_2 (LSTM)                  [(None, 158, 100),   42000       ['input_2[0][0]']                \n",
            "                                 (None, 100),                                                     \n",
            "                                 (None, 100)]                                                     \n",
            "                                                                                                  \n",
            " lstm_3 (LSTM)                  [(None, 100),        80400       ['lstm_2[0][0]']                 \n",
            "                                 (None, 100),                                                     \n",
            "                                 (None, 100)]                                                     \n",
            "                                                                                                  \n",
            " repeat_vector_1 (RepeatVector)  (None, 79, 100)     0           ['lstm_3[0][0]']                 \n",
            "                                                                                                  \n",
            " lstm_4 (LSTM)                  (None, 79, 100)      80400       ['repeat_vector_1[0][0]',        \n",
            "                                                                  'lstm_2[0][1]',                 \n",
            "                                                                  'lstm_2[0][2]']                 \n",
            "                                                                                                  \n",
            " lstm_5 (LSTM)                  (None, 79, 100)      80400       ['lstm_4[0][0]',                 \n",
            "                                                                  'lstm_3[0][1]',                 \n",
            "                                                                  'lstm_3[0][2]']                 \n",
            "                                                                                                  \n",
            " time_distributed_1 (TimeDistri  (None, 79, 4)       404         ['lstm_5[0][0]']                 \n",
            " buted)                                                                                           \n",
            "                                                                                                  \n",
            "==================================================================================================\n",
            "Total params: 283,604\n",
            "Trainable params: 283,604\n",
            "Non-trainable params: 0\n",
            "__________________________________________________________________________________________________\n"
          ]
        }
      ],
      "source": [
        "encoder_inputs = tf.keras.layers.Input(shape=(n_past, n_features))\n",
        "encoder_l1 = tf.keras.layers.LSTM(100,return_sequences = True, return_state=True)\n",
        "encoder_outputs1 = encoder_l1(encoder_inputs)\n",
        "encoder_states1 = encoder_outputs1[1:]\n",
        "encoder_l2 = tf.keras.layers.LSTM(100, return_state=True)\n",
        "encoder_outputs2 = encoder_l2(encoder_outputs1[0])\n",
        "encoder_states2 = encoder_outputs2[1:]\n",
        "decoder_inputs = tf.keras.layers.RepeatVector(n_future)(encoder_outputs2[0])\n",
        "decoder_l1 = tf.keras.layers.LSTM(100, return_sequences=True)(decoder_inputs,initial_state = encoder_states1)\n",
        "decoder_l2 = tf.keras.layers.LSTM(100, return_sequences=True)(decoder_l1,initial_state = encoder_states2)\n",
        "decoder_outputs2 = tf.keras.layers.TimeDistributed(tf.keras.layers.Dense(n_features))(decoder_l2)\n",
        "model_e2d2 = tf.keras.models.Model(encoder_inputs,decoder_outputs2)\n",
        "model_e2d2.summary()"
      ]
    },
    {
      "cell_type": "code",
      "execution_count": null,
      "metadata": {
        "id": "xPqtAQcv982f"
      },
      "outputs": [],
      "source": [
        "reduce_lr = tf.keras.callbacks.LearningRateScheduler(lambda x: 1e-3 * 0.90 ** x)\n",
        "model_e1d1.compile(optimizer=tf.keras.optimizers.Adam(), loss=tf.keras.losses.Huber())\n",
        "history_e1d1=model_e1d1.fit(X_train,y_train,epochs=25,validation_data=(X_test,y_test),batch_size=32,verbose=0,callbacks=[reduce_lr])"
      ]
    },
    {
      "cell_type": "code",
      "execution_count": null,
      "metadata": {
        "id": "XGk3Rhcci9QG"
      },
      "outputs": [],
      "source": [
        "model_e2d2.compile(optimizer=tf.keras.optimizers.Adam(), loss=tf.keras.losses.Huber())\n",
        "history_e2d2=model_e2d2.fit(X_train,y_train,epochs=25,validation_data=(X_test,y_test),batch_size=32,verbose=0,callbacks=[reduce_lr])"
      ]
    },
    {
      "cell_type": "code",
      "execution_count": null,
      "metadata": {
        "colab": {
          "base_uri": "https://localhost:8080/"
        },
        "id": "9WThPLNbcaO5",
        "outputId": "01169c78-295c-4903-f6dc-d5653f56ea49"
      },
      "outputs": [
        {
          "name": "stderr",
          "output_type": "stream",
          "text": [
            "WARNING:absl:Found untraced functions such as lstm_cell_2_layer_call_fn, lstm_cell_2_layer_call_and_return_conditional_losses, lstm_cell_3_layer_call_fn, lstm_cell_3_layer_call_and_return_conditional_losses, lstm_cell_4_layer_call_fn while saving (showing 5 of 8). These functions will not be directly callable after loading.\n",
            "WARNING:absl:<keras.layers.recurrent.LSTMCell object at 0x7f6726415ad0> has the same name 'LSTMCell' as a built-in Keras object. Consider renaming <class 'keras.layers.recurrent.LSTMCell'> to avoid naming conflicts when loading with `tf.keras.models.load_model`. If renaming is not possible, pass the object in the `custom_objects` parameter of the load function.\n",
            "WARNING:absl:<keras.layers.recurrent.LSTMCell object at 0x7f67263a2a50> has the same name 'LSTMCell' as a built-in Keras object. Consider renaming <class 'keras.layers.recurrent.LSTMCell'> to avoid naming conflicts when loading with `tf.keras.models.load_model`. If renaming is not possible, pass the object in the `custom_objects` parameter of the load function.\n",
            "WARNING:absl:<keras.layers.recurrent.LSTMCell object at 0x7f6726219610> has the same name 'LSTMCell' as a built-in Keras object. Consider renaming <class 'keras.layers.recurrent.LSTMCell'> to avoid naming conflicts when loading with `tf.keras.models.load_model`. If renaming is not possible, pass the object in the `custom_objects` parameter of the load function.\n",
            "WARNING:absl:<keras.layers.recurrent.LSTMCell object at 0x7f67261a7b90> has the same name 'LSTMCell' as a built-in Keras object. Consider renaming <class 'keras.layers.recurrent.LSTMCell'> to avoid naming conflicts when loading with `tf.keras.models.load_model`. If renaming is not possible, pass the object in the `custom_objects` parameter of the load function.\n",
            "WARNING:absl:Found untraced functions such as lstm_cell_layer_call_fn, lstm_cell_layer_call_and_return_conditional_losses, lstm_cell_1_layer_call_fn, lstm_cell_1_layer_call_and_return_conditional_losses while saving (showing 4 of 4). These functions will not be directly callable after loading.\n",
            "WARNING:absl:<keras.layers.recurrent.LSTMCell object at 0x7f6726296490> has the same name 'LSTMCell' as a built-in Keras object. Consider renaming <class 'keras.layers.recurrent.LSTMCell'> to avoid naming conflicts when loading with `tf.keras.models.load_model`. If renaming is not possible, pass the object in the `custom_objects` parameter of the load function.\n",
            "WARNING:absl:<keras.layers.recurrent.LSTMCell object at 0x7f6726529110> has the same name 'LSTMCell' as a built-in Keras object. Consider renaming <class 'keras.layers.recurrent.LSTMCell'> to avoid naming conflicts when loading with `tf.keras.models.load_model`. If renaming is not possible, pass the object in the `custom_objects` parameter of the load function.\n"
          ]
        }
      ],
      "source": [
        "#save the model\n",
        "model_e2d2.save('/content/drive/MyDrive/e2d2model')\n",
        "model_e1d1.save('/content/drive/MyDrive/e1d1model')"
      ]
    },
    {
      "cell_type": "code",
      "execution_count": 20,
      "metadata": {
        "id": "_G1wMUww-uKY",
        "colab": {
          "base_uri": "https://localhost:8080/",
          "height": 183
        },
        "outputId": "cc62ab0b-0fa2-4dd9-f059-c382850e22b0"
      },
      "outputs": [
        {
          "output_type": "error",
          "ename": "NameError",
          "evalue": "ignored",
          "traceback": [
            "\u001b[0;31m---------------------------------------------------------------------------\u001b[0m",
            "\u001b[0;31mNameError\u001b[0m                                 Traceback (most recent call last)",
            "\u001b[0;32m<ipython-input-20-0092eb645c2c>\u001b[0m in \u001b[0;36m<module>\u001b[0;34m\u001b[0m\n\u001b[0;32m----> 1\u001b[0;31m \u001b[0mpred_e1d1\u001b[0m\u001b[0;34m=\u001b[0m\u001b[0mmodel_e1d1\u001b[0m\u001b[0;34m.\u001b[0m\u001b[0mpredict\u001b[0m\u001b[0;34m(\u001b[0m\u001b[0mX_test\u001b[0m\u001b[0;34m)\u001b[0m\u001b[0;34m\u001b[0m\u001b[0;34m\u001b[0m\u001b[0m\n\u001b[0m\u001b[1;32m      2\u001b[0m \u001b[0mpred_e2d2\u001b[0m\u001b[0;34m=\u001b[0m\u001b[0mmodel_e2d2\u001b[0m\u001b[0;34m.\u001b[0m\u001b[0mpredict\u001b[0m\u001b[0;34m(\u001b[0m\u001b[0mX_test\u001b[0m\u001b[0;34m)\u001b[0m\u001b[0;34m\u001b[0m\u001b[0;34m\u001b[0m\u001b[0m\n",
            "\u001b[0;31mNameError\u001b[0m: name 'model_e1d1' is not defined"
          ]
        }
      ],
      "source": [
        "pred_e1d1=model_e1d1.predict(X_test)\n",
        "pred_e2d2=model_e2d2.predict(X_test)"
      ]
    },
    {
      "cell_type": "code",
      "source": [
        "loaded_model.predict(X_test)"
      ],
      "metadata": {
        "colab": {
          "base_uri": "https://localhost:8080/"
        },
        "id": "iM24SX3H75LP",
        "outputId": "f6534b4f-e05c-4411-d4e8-d3dd51edd7cd"
      },
      "execution_count": 21,
      "outputs": [
        {
          "output_type": "execute_result",
          "data": {
            "text/plain": [
              "array([[[-0.71199024, -0.9954782 , -0.958405  , -0.6903159 ],\n",
              "        [-0.71831393, -0.9916047 , -0.9550656 , -0.6870513 ],\n",
              "        [-0.702924  , -0.99208367, -0.9475509 , -0.6931861 ],\n",
              "        ...,\n",
              "        [-0.617802  , -0.9927584 , -0.87848854, -0.6879237 ],\n",
              "        [-0.6165843 , -0.99275506, -0.8775091 , -0.6878895 ],\n",
              "        [-0.6153546 , -0.9927515 , -0.8765204 , -0.68785447]],\n",
              "\n",
              "       [[-0.71409845, -0.9955243 , -0.95722485, -0.68679976],\n",
              "        [-0.7226635 , -0.9918353 , -0.95686615, -0.683326  ],\n",
              "        [-0.70518076, -0.99206847, -0.9473671 , -0.6880157 ],\n",
              "        ...,\n",
              "        [-0.61700654, -0.9927148 , -0.876871  , -0.6844589 ],\n",
              "        [-0.6157264 , -0.9927107 , -0.8758378 , -0.68442035],\n",
              "        [-0.6144329 , -0.99270636, -0.8747941 , -0.68438077]],\n",
              "\n",
              "       [[-0.7217325 , -0.99542606, -0.9579786 , -0.68514985],\n",
              "        [-0.73137254, -0.99209917, -0.9603461 , -0.68200135],\n",
              "        [-0.7112697 , -0.9920006 , -0.94822073, -0.6848706 ],\n",
              "        ...,\n",
              "        [-0.6273468 , -0.99269956, -0.88358665, -0.682993  ],\n",
              "        [-0.626245  , -0.99269664, -0.8826971 , -0.6829633 ],\n",
              "        [-0.62513214, -0.9926935 , -0.8817991 , -0.68293303]],\n",
              "\n",
              "       ...,\n",
              "\n",
              "       [[-0.71149033, -0.9934546 , -0.93328655, -0.649356  ],\n",
              "        [-0.7075588 , -0.9952752 , -0.9366152 , -0.6497354 ],\n",
              "        [-0.70975244, -0.994505  , -0.9373307 , -0.64836085],\n",
              "        ...,\n",
              "        [-0.69222736, -0.99465394, -0.9248079 , -0.6456278 ],\n",
              "        [-0.6919696 , -0.99465543, -0.92465353, -0.6456287 ],\n",
              "        [-0.69171494, -0.9946569 , -0.9245014 , -0.6456306 ]],\n",
              "\n",
              "       [[-0.6925765 , -0.99344206, -0.9240825 , -0.64772594],\n",
              "        [-0.692463  , -0.99523693, -0.9293853 , -0.6492134 ],\n",
              "        [-0.69769794, -0.9945026 , -0.932395  , -0.64818895],\n",
              "        ...,\n",
              "        [-0.686691  , -0.99467075, -0.92313516, -0.6453614 ],\n",
              "        [-0.68646336, -0.9946723 , -0.9229958 , -0.6453685 ],\n",
              "        [-0.6862387 , -0.9946739 , -0.9228585 , -0.6453764 ]],\n",
              "\n",
              "       [[-0.69591093, -0.99345666, -0.9260024 , -0.6484559 ],\n",
              "        [-0.6952313 , -0.9953506 , -0.9317404 , -0.65118986],\n",
              "        [-0.69907784, -0.99447143, -0.9336617 , -0.6492701 ],\n",
              "        ...,\n",
              "        [-0.68726116, -0.9946264 , -0.92420137, -0.64610016],\n",
              "        [-0.6870407 , -0.994628  , -0.92406785, -0.646107  ],\n",
              "        [-0.68682307, -0.99462956, -0.92393625, -0.6461145 ]]],\n",
              "      dtype=float32)"
            ]
          },
          "metadata": {},
          "execution_count": 21
        }
      ]
    },
    {
      "cell_type": "code",
      "source": [
        "prediction=loaded_model.predict(X_test)"
      ],
      "metadata": {
        "id": "xOP3ylZ88GlB"
      },
      "execution_count": 22,
      "outputs": []
    },
    {
      "cell_type": "code",
      "source": [
        "for index,i in enumerate(train_df.columns):\n",
        "    scaler = scalers['scaler_'+i]\n",
        "    prediction[:,:,index]=scaler.inverse_transform(prediction[:,:,index])\n",
        "    y_train[:,:,index]=scaler.inverse_transform(y_train[:,:,index])\n",
        "    y_test[:,:,index]=scaler.inverse_transform(y_test[:,:,index])"
      ],
      "metadata": {
        "id": "El2kFAlO8DTX"
      },
      "execution_count": 24,
      "outputs": []
    },
    {
      "cell_type": "code",
      "execution_count": null,
      "metadata": {
        "id": "lRYm7t0y-8-A"
      },
      "outputs": [],
      "source": [
        "for index,i in enumerate(train_df.columns):\n",
        "    scaler = scalers['scaler_'+i]\n",
        "    pred_e1d1[:,:,index]=scaler.inverse_transform(pred_e1d1[:,:,index])\n",
        "    pred_e1d1[:,:,index]=scaler.inverse_transform(pred_e1d1[:,:,index])\n",
        "    pred_e2d2[:,:,index]=scaler.inverse_transform(pred_e2d2[:,:,index])\n",
        "    pred_e2d2[:,:,index]=scaler.inverse_transform(pred_e2d2[:,:,index])\n",
        "    y_train[:,:,index]=scaler.inverse_transform(y_train[:,:,index])\n",
        "    y_test[:,:,index]=scaler.inverse_transform(y_test[:,:,index])"
      ]
    },
    {
      "cell_type": "code",
      "execution_count": null,
      "metadata": {
        "colab": {
          "base_uri": "https://localhost:8080/"
        },
        "id": "lbQmXdJ4CNex",
        "outputId": "f6fde083-0a7c-4d83-b3b8-7f3a44620a42"
      },
      "outputs": [
        {
          "data": {
            "text/plain": [
              "(34863, 79, 4)"
            ]
          },
          "execution_count": 57,
          "metadata": {},
          "output_type": "execute_result"
        }
      ],
      "source": [
        "y_test.shape\n"
      ]
    },
    {
      "cell_type": "code",
      "execution_count": null,
      "metadata": {
        "id": "Ryg699qYOCgG"
      },
      "outputs": [],
      "source": [
        "#print series prediction"
      ]
    },
    {
      "cell_type": "code",
      "execution_count": 26,
      "metadata": {
        "colab": {
          "base_uri": "https://localhost:8080/"
        },
        "id": "0pFHFCZEK5k2",
        "outputId": "d72d36d0-d53b-4e10-f159-ee963782ee7c"
      },
      "outputs": [
        {
          "output_type": "stream",
          "name": "stdout",
          "text": [
            "thermal_speed\n",
            "Day  1 :\n",
            "MAE-E1D1 :  0.029260677895801848, Day  2 :\n",
            "MAE-E1D1 :  0.038176982109007204, Day  3 :\n",
            "MAE-E1D1 :  0.041677733197023996, Day  4 :\n",
            "MAE-E1D1 :  0.045115222833412474, Day  5 :\n",
            "MAE-E1D1 :  0.0477553251803967, \n",
            "\n",
            "density\n",
            "Day  1 :\n",
            "MAE-E1D1 :  0.005602536924852307, Day  2 :\n",
            "MAE-E1D1 :  0.004958283513692142, Day  3 :\n",
            "MAE-E1D1 :  0.005845089538178577, Day  4 :\n",
            "MAE-E1D1 :  0.005853233076593578, Day  5 :\n",
            "MAE-E1D1 :  0.005769627904990386, \n",
            "\n",
            "temperature\n",
            "Day  1 :\n",
            "MAE-E1D1 :  0.018586982727835055, Day  2 :\n",
            "MAE-E1D1 :  0.02172088676677215, Day  3 :\n",
            "MAE-E1D1 :  0.02400729642802286, Day  4 :\n",
            "MAE-E1D1 :  0.02554447385910187, Day  5 :\n",
            "MAE-E1D1 :  0.026775742445613947, \n",
            "\n",
            "velocityMag\n",
            "Day  1 :\n",
            "MAE-E1D1 :  0.009384700813370457, Day  2 :\n",
            "MAE-E1D1 :  0.011437100423262693, Day  3 :\n",
            "MAE-E1D1 :  0.00958463323425111, Day  4 :\n",
            "MAE-E1D1 :  0.009675271251476651, Day  5 :\n",
            "MAE-E1D1 :  0.010187457227459127, \n",
            "\n"
          ]
        }
      ],
      "source": [
        "from sklearn.metrics import mean_absolute_error\n",
        " \n",
        "for index,i in enumerate(train_df.columns):\n",
        "  print(i)\n",
        "  for j in range(1,6):\n",
        "    print(\"Day \",j,\":\")\n",
        "    print(\"MAE-E1D1 : \",mean_absolute_error(y_test[:,j-1,index],prediction[:,j-1,index]),end=\", \")\n",
        "    #print(\"MAE-E2D2 : \",mean_absolute_error(y_test[:,j-1,index],pred_e2d2[:,j-1,index]))\n",
        "  print()\n",
        "  print()\n",
        "  "
      ]
    },
    {
      "cell_type": "code",
      "source": [
        "dd=mean_absolute_error(y_test[:,j-1,index],prediction[:,j-1,index])\n",
        "plt.plot(dd[1])\n",
        "plt.show()"
      ],
      "metadata": {
        "colab": {
          "base_uri": "https://localhost:8080/",
          "height": 200
        },
        "id": "9heumpzmJMQm",
        "outputId": "8de64194-48ff-40de-bf9f-6271099d1443"
      },
      "execution_count": 42,
      "outputs": [
        {
          "output_type": "error",
          "ename": "IndexError",
          "evalue": "ignored",
          "traceback": [
            "\u001b[0;31m---------------------------------------------------------------------------\u001b[0m",
            "\u001b[0;31mIndexError\u001b[0m                                Traceback (most recent call last)",
            "\u001b[0;32m<ipython-input-42-e8426b1926a5>\u001b[0m in \u001b[0;36m<module>\u001b[0;34m\u001b[0m\n\u001b[1;32m      1\u001b[0m \u001b[0mdd\u001b[0m\u001b[0;34m=\u001b[0m\u001b[0mmean_absolute_error\u001b[0m\u001b[0;34m(\u001b[0m\u001b[0my_test\u001b[0m\u001b[0;34m[\u001b[0m\u001b[0;34m:\u001b[0m\u001b[0;34m,\u001b[0m\u001b[0mj\u001b[0m\u001b[0;34m-\u001b[0m\u001b[0;36m1\u001b[0m\u001b[0;34m,\u001b[0m\u001b[0mindex\u001b[0m\u001b[0;34m]\u001b[0m\u001b[0;34m,\u001b[0m\u001b[0mprediction\u001b[0m\u001b[0;34m[\u001b[0m\u001b[0;34m:\u001b[0m\u001b[0;34m,\u001b[0m\u001b[0mj\u001b[0m\u001b[0;34m-\u001b[0m\u001b[0;36m1\u001b[0m\u001b[0;34m,\u001b[0m\u001b[0mindex\u001b[0m\u001b[0;34m]\u001b[0m\u001b[0;34m)\u001b[0m\u001b[0;34m\u001b[0m\u001b[0;34m\u001b[0m\u001b[0m\n\u001b[0;32m----> 2\u001b[0;31m \u001b[0mplt\u001b[0m\u001b[0;34m.\u001b[0m\u001b[0mplot\u001b[0m\u001b[0;34m(\u001b[0m\u001b[0mdd\u001b[0m\u001b[0;34m[\u001b[0m\u001b[0;36m1\u001b[0m\u001b[0;34m]\u001b[0m\u001b[0;34m)\u001b[0m\u001b[0;34m\u001b[0m\u001b[0;34m\u001b[0m\u001b[0m\n\u001b[0m\u001b[1;32m      3\u001b[0m \u001b[0mplt\u001b[0m\u001b[0;34m.\u001b[0m\u001b[0mshow\u001b[0m\u001b[0;34m(\u001b[0m\u001b[0;34m)\u001b[0m\u001b[0;34m\u001b[0m\u001b[0;34m\u001b[0m\u001b[0m\n",
            "\u001b[0;31mIndexError\u001b[0m: invalid index to scalar variable."
          ]
        }
      ]
    },
    {
      "cell_type": "code",
      "execution_count": 43,
      "metadata": {
        "id": "XtBlMeLMmf1J",
        "colab": {
          "base_uri": "https://localhost:8080/",
          "height": 275
        },
        "outputId": "59a849de-3844-479d-bd13-34803ebea8e7"
      },
      "outputs": [
        {
          "output_type": "display_data",
          "data": {
            "text/plain": [
              "<Figure size 1296x360 with 1 Axes>"
            ],
            "image/png": "[encoded data removed]"
          },
          "metadata": {
            "needs_background": "light"
          }
        }
      ],
      "source": [
        "plt.plot(y_test[0:100][0])\n",
        "plt.title(\"real\")\n",
        "plt.xlabel('time')\n",
        "plt.ylabel('value')\n",
        "plt.legend(['0', '1','2','3'])\n",
        "plt.show()"
      ]
    },
    {
      "cell_type": "code",
      "source": [
        "plt.plot(prediction[0:100][0])\n",
        "plt.title(\"model\")\n",
        "plt.xlabel('time')\n",
        "plt.ylabel('value')\n",
        "plt.legend(['0', '1','2','3'])\n",
        "plt.show()"
      ],
      "metadata": {
        "colab": {
          "base_uri": "https://localhost:8080/",
          "height": 275
        },
        "id": "EbvZ8gbUGnty",
        "outputId": "961407b7-e398-4fdd-babf-1afb7cb040ee"
      },
      "execution_count": 40,
      "outputs": [
        {
          "output_type": "display_data",
          "data": {
            "text/plain": [
              "<Figure size 1296x360 with 1 Axes>"
            ],
            "image/png": "[encoded data removed]"
          },
          "metadata": {
            "needs_background": "light"
          }
        }
      ]
    },
    {
      "cell_type": "code",
      "source": [
        "prediction.shape"
      ],
      "metadata": {
        "colab": {
          "base_uri": "https://localhost:8080/"
        },
        "id": "N73vq15FF2a-",
        "outputId": "6c232056-6ad3-4ee7-c498-5669ddb67deb"
      },
      "execution_count": 39,
      "outputs": [
        {
          "output_type": "execute_result",
          "data": {
            "text/plain": [
              "(1938, 79, 4)"
            ]
          },
          "metadata": {},
          "execution_count": 39
        }
      ]
    },
    {
      "cell_type": "code",
      "source": [
        "y_test.shape\n"
      ],
      "metadata": {
        "colab": {
          "base_uri": "https://localhost:8080/"
        },
        "id": "YJ9vuIXUFx6t",
        "outputId": "05cb425c-6d99-4431-ad8f-6811e3c58afb"
      },
      "execution_count": 30,
      "outputs": [
        {
          "output_type": "execute_result",
          "data": {
            "text/plain": [
              "(1938, 79, 4)"
            ]
          },
          "metadata": {},
          "execution_count": 30
        }
      ]
    },
    {
      "cell_type": "code",
      "execution_count": null,
      "metadata": {
        "colab": {
          "base_uri": "https://localhost:8080/",
          "height": 404
        },
        "id": "701L_ItU_4oP",
        "outputId": "545b9755-e216-4c9d-84be-365c4e64b02e"
      },
      "outputs": [
        {
          "data": {
            "image/png": "[encoded data removed]",
            "text/plain": [
              "<Figure size 1296x360 with 1 Axes>"
            ]
          },
          "metadata": {},
          "output_type": "display_data"
        },
        {
          "name": "stdout",
          "output_type": "stream",
          "text": [
            "60870921.271426514\n",
            "137673.45\n"
          ]
        }
      ],
      "source": [
        "\n",
        "#plt.plot(y_test[12][0:79][3])\n",
        "plt.plot(y_test[0:100][1])\n",
        "#plt.plot(pred_e1d1[0:100][0:79][3])\n",
        "plt.title(\"E1D1\")\n",
        "plt.xlabel('time')\n",
        "plt.ylabel('value')\n",
        "plt.legend(['pred', 'real'])\n",
        "plt.show()\n",
        "\n",
        "print(y_test)\n",
        "print(pred_e1d1[12][0][3])\n",
        "\n",
        "\n"
      ]
    },
    {
      "cell_type": "code",
      "execution_count": null,
      "metadata": {
        "colab": {
          "base_uri": "https://localhost:8080/"
        },
        "id": "0ePrbj3nBKiQ",
        "outputId": "367d2e6f-e831-44ca-a3dc-1af3e20f67b6"
      },
      "outputs": [
        {
          "data": {
            "text/plain": [
              "(34863, 158, 4)"
            ]
          },
          "execution_count": 38,
          "metadata": {},
          "output_type": "execute_result"
        }
      ],
      "source": [
        "X_test.shape"
      ]
    },
    {
      "cell_type": "code",
      "execution_count": null,
      "metadata": {
        "colab": {
          "base_uri": "https://localhost:8080/",
          "height": 369
        },
        "id": "5Z7JvoQa_jg5",
        "outputId": "caa82813-bdf9-4d72-d264-139fbd062ef2"
      },
      "outputs": [
        {
          "data": {
            "image/png": "[encoded data removed]",
            "text/plain": [
              "<Figure size 1296x360 with 1 Axes>"
            ]
          },
          "metadata": {},
          "output_type": "display_data"
        }
      ],
      "source": [
        "plt.plot(history_e1d1.history['loss'])\n",
        "plt.plot(history_e1d1.history['val_loss'])\n",
        "plt.title(\"E1D1 Model Loss\")\n",
        "plt.xlabel('Epochs')\n",
        "plt.ylabel('Loss')\n",
        "plt.legend(['Train', 'Valid'])\n",
        "plt.show()"
      ]
    },
    {
      "cell_type": "code",
      "execution_count": null,
      "metadata": {
        "colab": {
          "base_uri": "https://localhost:8080/",
          "height": 369
        },
        "id": "4_2-aOgk_mgQ",
        "outputId": "39c4661c-98aa-40dd-afbe-be44ce1caca8"
      },
      "outputs": [
        {
          "data": {
            "image/png": "[encoded data removed]",
            "text/plain": [
              "<Figure size 1296x360 with 1 Axes>"
            ]
          },
          "metadata": {},
          "output_type": "display_data"
        }
      ],
      "source": [
        "plt.plot(history_e2d2.history['loss'])\n",
        "plt.plot(history_e2d2.history['val_loss'])\n",
        "plt.title(\"E2D2 Model Loss\")\n",
        "plt.xlabel('Epochs')\n",
        "plt.ylabel('Loss')\n",
        "plt.legend(['Train', 'Valid'])\n",
        "plt.show()"
      ]
    },
    {
      "cell_type": "code",
      "execution_count": null,
      "metadata": {
        "id": "XN0DPKiJgLcp"
      },
      "outputs": [],
      "source": []
    }
  ],
  "metadata": {
    "colab": {
      "collapsed_sections": [],
      "provenance": [],
      "mount_file_id": "1xckN4DZ5jMsZl69S1NQrVs78Icy8MSRt",
      "authorship_tag": "ABX9TyMuHuQA++mjhjKNfuTO1Wvn",
      "include_colab_link": true
    },
    "kernelspec": {
      "display_name": "Python 3",
      "name": "python3"
    },
    "language_info": {
      "name": "python"
    }
  },
  "nbformat": 4,
  "nbformat_minor": 0
}